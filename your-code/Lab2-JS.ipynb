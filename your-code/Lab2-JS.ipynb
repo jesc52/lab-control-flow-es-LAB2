{
 "cells": [
  {
   "cell_type": "markdown",
   "metadata": {},
   "source": [
    "## Palabras"
   ]
  },
  {
   "cell_type": "code",
   "execution_count": 33,
   "metadata": {},
   "outputs": [],
   "source": [
    "words = ['play', 'filling', 'bar', 'theatre', 'easygoing', 'date', 'lead', 'that', 'story',  'island']"
   ]
  },
  {
   "cell_type": "markdown",
   "metadata": {},
   "source": [
    "**Imprime todas las letras en mayuscula**"
   ]
  },
  {
   "cell_type": "code",
   "execution_count": 34,
   "metadata": {},
   "outputs": [
    {
     "name": "stdout",
     "output_type": "stream",
     "text": [
      "['PLAY', 'FILLING', 'BAR', 'THEATRE', 'EASYGOING', 'DATE', 'LEAD', 'THAT', 'STORY', 'ISLAND']\n"
     ]
    }
   ],
   "source": [
    "# tu codigo aquí\n",
    "# Creo una lista vacia, y hago un for para que me almacene los elementos de la lista uno a uno en mayusculas, y lo imprimob\n",
    "uppercase_word = []\n",
    "for i in words:\n",
    "    uppercase_word.append(i.upper())\n",
    "print(uppercase_word)\n"
   ]
  },
  {
   "cell_type": "code",
   "execution_count": 35,
   "metadata": {},
   "outputs": [
    {
     "data": {
      "text/plain": [
       "['PLAY',\n",
       " 'FILLING',\n",
       " 'BAR',\n",
       " 'THEATRE',\n",
       " 'EASYGOING',\n",
       " 'DATE',\n",
       " 'LEAD',\n",
       " 'THAT',\n",
       " 'STORY',\n",
       " 'ISLAND']"
      ]
     },
     "execution_count": 35,
     "metadata": {},
     "output_type": "execute_result"
    }
   ],
   "source": [
    "uppercase= [i.upper() for i in words]\n",
    "uppercase"
   ]
  },
  {
   "cell_type": "markdown",
   "metadata": {},
   "source": [
    "**Crea una nueva lista que contenga las palabras con 5 o más letras**"
   ]
  },
  {
   "cell_type": "code",
   "execution_count": 36,
   "metadata": {},
   "outputs": [
    {
     "name": "stdout",
     "output_type": "stream",
     "text": [
      "['filling', 'theatre', 'easygoing', 'story', 'island']\n"
     ]
    }
   ],
   "source": [
    "#Crear una lista vacia para almacenar, luego creo un for con un condicional if que me busque todas las palabras en la lista words cuyos caracteres sean\n",
    "# mayores o iguales a 5\n",
    "\n",
    "list_5_letters = []\n",
    "for i in words:\n",
    "    if len(i) >= 5:\n",
    "        list_5_letters.append(i)\n",
    "print(list_5_letters)\n"
   ]
  },
  {
   "cell_type": "markdown",
   "metadata": {},
   "source": [
    "**Imprime la primera palabra que empiece por 't'**"
   ]
  },
  {
   "cell_type": "code",
   "execution_count": 38,
   "metadata": {},
   "outputs": [
    {
     "name": "stdout",
     "output_type": "stream",
     "text": [
      "theatre\n"
     ]
    }
   ],
   "source": [
    "#Establezco una variable switcher para fijar cuando un el condicional debe ejecutarse o no\n",
    "# hago un bucle for con un if para evalauar cuando una palabra de la lista words comienza con t, y cuando sea asi imprimirla y parar el switcher.\n",
    "\n",
    "# tu codigo aquí\n",
    "switcher = 1\n",
    "for i in words:\n",
    "    if i.startswith('t') and switcher == 1:\n",
    "        print(i)\n",
    "        switcher = 0\n",
    "        "
   ]
  },
  {
   "cell_type": "markdown",
   "metadata": {},
   "source": [
    "## Numeros"
   ]
  },
  {
   "cell_type": "markdown",
   "metadata": {},
   "source": [
    "**Crea una lista que contenga el cuadrado de cada numero entre 1 y 10**"
   ]
  },
  {
   "cell_type": "code",
   "execution_count": 44,
   "metadata": {},
   "outputs": [
    {
     "name": "stdout",
     "output_type": "stream",
     "text": [
      "[1, 4, 9, 16, 25, 36, 49, 64, 81, 100]\n"
     ]
    }
   ],
   "source": [
    "# creo una lista numbers vacia para anadir los valores cuadrados, creo un bucle for para evaluar todos los valores de u n rango de 1 a 10, se pone hasta\n",
    "# 11 porque range no incluye el ultimo numero, anado los valores cuadrados como i**2 a la lista con el metodo append e imprimo la lista\n",
    "# tu codigo aquí\n",
    "numbers_cuad =[]\n",
    "for i in range(1,11):\n",
    "    numbers_cuad.append(i**2)\n",
    "print(numbers_cuad)"
   ]
  },
  {
   "cell_type": "markdown",
   "metadata": {},
   "source": [
    "**Imprime una lista que contenga el cuadrado de cada número impar del 1 al 10**"
   ]
  },
  {
   "cell_type": "code",
   "execution_count": 51,
   "metadata": {},
   "outputs": [
    {
     "name": "stdout",
     "output_type": "stream",
     "text": [
      "[1, 9, 25, 49, 81]\n"
     ]
    }
   ],
   "source": [
    "# creo una lista vacia para asignar los valores, en el rango del 1 al 10 seria range 1-11 con un bucle for, hago un condicional que evalue si al dividir\n",
    "# cada numero de la lista entre 2 el residuo es distinto a 0\n",
    "\n",
    "# tu codigo aquí\n",
    "numbers_cuad_impar =[]\n",
    "for i in range(1,11):\n",
    "    if(i%2!=0):\n",
    "        numbers_cuad_impar.append(i*i)\n",
    "print(numbers_cuad_impar)"
   ]
  },
  {
   "cell_type": "markdown",
   "metadata": {},
   "source": [
    "**Crear una lista con los cuadrados de todos los múltiplos de 8 por debajo de 1000**"
   ]
  },
  {
   "cell_type": "code",
   "execution_count": 55,
   "metadata": {},
   "outputs": [
    {
     "name": "stdout",
     "output_type": "stream",
     "text": [
      "[1, 4, 9, 16, 25, 36, 49, 81, 100, 121, 144, 169, 196, 225, 289, 324, 361, 400, 441, 484, 529, 625, 676, 729, 784, 841, 900, 961, 1089, 1156, 1225, 1296, 1369, 1444, 1521, 1681, 1764, 1849, 1936, 2025, 2116, 2209, 2401, 2500, 2601, 2704, 2809, 2916, 3025, 3249, 3364, 3481, 3600, 3721, 3844, 3969, 4225, 4356, 4489, 4624, 4761, 4900, 5041, 5329, 5476, 5625, 5776, 5929, 6084, 6241, 6561, 6724, 6889, 7056, 7225, 7396, 7569, 7921, 8100, 8281, 8464, 8649, 8836, 9025, 9409, 9604, 9801, 10000, 10201, 10404, 10609, 11025, 11236, 11449, 11664, 11881, 12100, 12321, 12769, 12996, 13225, 13456, 13689, 13924, 14161, 14641, 14884, 15129, 15376, 15625, 15876, 16129, 16641, 16900, 17161, 17424, 17689, 17956, 18225, 18769, 19044, 19321, 19600, 19881, 20164, 20449, 21025, 21316, 21609, 21904, 22201, 22500, 22801, 23409, 23716, 24025, 24336, 24649, 24964, 25281, 25921, 26244, 26569, 26896, 27225, 27556, 27889, 28561, 28900, 29241, 29584, 29929, 30276, 30625, 31329, 31684, 32041, 32400, 32761, 33124, 33489, 34225, 34596, 34969, 35344, 35721, 36100, 36481, 37249, 37636, 38025, 38416, 38809, 39204, 39601, 40401, 40804, 41209, 41616, 42025, 42436, 42849, 43681, 44100, 44521, 44944, 45369, 45796, 46225, 47089, 47524, 47961, 48400, 48841, 49284, 49729, 50625, 51076, 51529, 51984, 52441, 52900, 53361, 54289, 54756, 55225, 55696, 56169, 56644, 57121, 58081, 58564, 59049, 59536, 60025, 60516, 61009, 62001, 62500, 63001, 63504, 64009, 64516, 65025, 66049, 66564, 67081, 67600, 68121, 68644, 69169, 70225, 70756, 71289, 71824, 72361, 72900, 73441, 74529, 75076, 75625, 76176, 76729, 77284, 77841, 78961, 79524, 80089, 80656, 81225, 81796, 82369, 83521, 84100, 84681, 85264, 85849, 86436, 87025, 88209, 88804, 89401, 90000, 90601, 91204, 91809, 93025, 93636, 94249, 94864, 95481, 96100, 96721, 97969, 98596, 99225, 99856, 100489, 101124, 101761, 103041, 103684, 104329, 104976, 105625, 106276, 106929, 108241, 108900, 109561, 110224, 110889, 111556, 112225, 113569, 114244, 114921, 115600, 116281, 116964, 117649, 119025, 119716, 120409, 121104, 121801, 122500, 123201, 124609, 125316, 126025, 126736, 127449, 128164, 128881, 130321, 131044, 131769, 132496, 133225, 133956, 134689, 136161, 136900, 137641, 138384, 139129, 139876, 140625, 142129, 142884, 143641, 144400, 145161, 145924, 146689, 148225, 148996, 149769, 150544, 151321, 152100, 152881, 154449, 155236, 156025, 156816, 157609, 158404, 159201, 160801, 161604, 162409, 163216, 164025, 164836, 165649, 167281, 168100, 168921, 169744, 170569, 171396, 172225, 173889, 174724, 175561, 176400, 177241, 178084, 178929, 180625, 181476, 182329, 183184, 184041, 184900, 185761, 187489, 188356, 189225, 190096, 190969, 191844, 192721, 194481, 195364, 196249, 197136, 198025, 198916, 199809, 201601, 202500, 203401, 204304, 205209, 206116, 207025, 208849, 209764, 210681, 211600, 212521, 213444, 214369, 216225, 217156, 218089, 219024, 219961, 220900, 221841, 223729, 224676, 225625, 226576, 227529, 228484, 229441, 231361, 232324, 233289, 234256, 235225, 236196, 237169, 239121, 240100, 241081, 242064, 243049, 244036, 245025, 247009, 248004, 249001, 250000, 251001, 252004, 253009, 255025, 256036, 257049, 258064, 259081, 260100, 261121, 263169, 264196, 265225, 266256, 267289, 268324, 269361, 271441, 272484, 273529, 274576, 275625, 276676, 277729, 279841, 280900, 281961, 283024, 284089, 285156, 286225, 288369, 289444, 290521, 291600, 292681, 293764, 294849, 297025, 298116, 299209, 300304, 301401, 302500, 303601, 305809, 306916, 308025, 309136, 310249, 311364, 312481, 314721, 315844, 316969, 318096, 319225, 320356, 321489, 323761, 324900, 326041, 327184, 328329, 329476, 330625, 332929, 334084, 335241, 336400, 337561, 338724, 339889, 342225, 343396, 344569, 345744, 346921, 348100, 349281, 351649, 352836, 354025, 355216, 356409, 357604, 358801, 361201, 362404, 363609, 364816, 366025, 367236, 368449, 370881, 372100, 373321, 374544, 375769, 376996, 378225, 380689, 381924, 383161, 384400, 385641, 386884, 388129, 390625, 391876, 393129, 394384, 395641, 396900, 398161, 400689, 401956, 403225, 404496, 405769, 407044, 408321, 410881, 412164, 413449, 414736, 416025, 417316, 418609, 421201, 422500, 423801, 425104, 426409, 427716, 429025, 431649, 432964, 434281, 435600, 436921, 438244, 439569, 442225, 443556, 444889, 446224, 447561, 448900, 450241, 452929, 454276, 455625, 456976, 458329, 459684, 461041, 463761, 465124, 466489, 467856, 469225, 470596, 471969, 474721, 476100, 477481, 478864, 480249, 481636, 483025, 485809, 487204, 488601, 490000, 491401, 492804, 494209, 497025, 498436, 499849, 501264, 502681, 504100, 505521, 508369, 509796, 511225, 512656, 514089, 515524, 516961, 519841, 521284, 522729, 524176, 525625, 527076, 528529, 531441, 532900, 534361, 535824, 537289, 538756, 540225, 543169, 544644, 546121, 547600, 549081, 550564, 552049, 555025, 556516, 558009, 559504, 561001, 562500, 564001, 567009, 568516, 570025, 571536, 573049, 574564, 576081, 579121, 580644, 582169, 583696, 585225, 586756, 588289, 591361, 592900, 594441, 595984, 597529, 599076, 600625, 603729, 605284, 606841, 608400, 609961, 611524, 613089, 616225, 617796, 619369, 620944, 622521, 624100, 625681, 628849, 630436, 632025, 633616, 635209, 636804, 638401, 641601, 643204, 644809, 646416, 648025, 649636, 651249, 654481, 656100, 657721, 659344, 660969, 662596, 664225, 667489, 669124, 670761, 672400, 674041, 675684, 677329, 680625, 682276, 683929, 685584, 687241, 688900, 690561, 693889, 695556, 697225, 698896, 700569, 702244, 703921, 707281, 708964, 710649, 712336, 714025, 715716, 717409, 720801, 722500, 724201, 725904, 727609, 729316, 731025, 734449, 736164, 737881, 739600, 741321, 743044, 744769, 748225, 749956, 751689, 753424, 755161, 756900, 758641, 762129, 763876, 765625, 767376, 769129, 770884, 772641, 776161, 777924, 779689, 781456, 783225, 784996, 786769, 790321, 792100, 793881, 795664, 797449, 799236, 801025, 804609, 806404, 808201, 810000, 811801, 813604, 815409, 819025, 820836, 822649, 824464, 826281, 828100, 829921, 833569, 835396, 837225, 839056, 840889, 842724, 844561, 848241, 850084, 851929, 853776, 855625, 857476, 859329, 863041, 864900, 866761, 868624, 870489, 872356, 874225, 877969, 879844, 881721, 883600, 885481, 887364, 889249, 893025, 894916, 896809, 898704, 900601, 902500, 904401, 908209, 910116, 912025, 913936, 915849, 917764, 919681, 923521, 925444, 927369, 929296, 931225, 933156, 935089, 938961, 940900, 942841, 944784, 946729, 948676, 950625, 954529, 956484, 958441, 960400, 962361, 964324, 966289, 970225, 972196, 974169, 976144, 978121, 980100, 982081, 986049, 988036, 990025, 992016, 994009, 996004, 998001]\n"
     ]
    }
   ],
   "source": [
    "# tu codigo aquí\n",
    "cuad_8=[]\n",
    "for i in range (1,1001):\n",
    "    if(i%8!=0):\n",
    "        cuad_8.append(i*i)\n",
    "print(cuad_8)"
   ]
  },
  {
   "cell_type": "markdown",
   "metadata": {},
   "source": [
    "## People"
   ]
  },
  {
   "cell_type": "code",
   "execution_count": 60,
   "metadata": {},
   "outputs": [],
   "source": [
    "people = [\n",
    "    {\n",
    "        \"name\": \"Juan\",\n",
    "        \"age\": 34,\n",
    "        \"n_kids\": 2\n",
    "    },\n",
    "    {\n",
    "        \"name\": \"Pepe\",\n",
    "        \"age\": 27,\n",
    "        \"n_kids\": 0\n",
    "    },\n",
    "    {\n",
    "        \"name\": \"Sonia\",\n",
    "        \"age\": 41,\n",
    "        \"n_kids\": 1\n",
    "    },\n",
    "    {\n",
    "        \"name\": \"Lucía\",\n",
    "        \"age\": 22,\n",
    "            \"n_kids\": 2\n",
    "    },\n",
    "    {\n",
    "        \"name\": \"Leo\",\n",
    "        \"age\": 55,\n",
    "        \"n_kids\": 5\n",
    "    }\n",
    "]"
   ]
  },
  {
   "cell_type": "markdown",
   "metadata": {},
   "source": [
    "**Cuánta gente hay?**"
   ]
  },
  {
   "cell_type": "code",
   "execution_count": 65,
   "metadata": {},
   "outputs": [
    {
     "name": "stdout",
     "output_type": "stream",
     "text": [
      "Hay 5 personas\n"
     ]
    }
   ],
   "source": [
    "\n",
    "# your code here\n",
    "gente= len(people)\n",
    "print(f\"Hay {gente} personas\")\n"
   ]
  },
  {
   "cell_type": "code",
   "execution_count": 69,
   "metadata": {},
   "outputs": [
    {
     "name": "stdout",
     "output_type": "stream",
     "text": [
      "Hay 5 personas\n"
     ]
    }
   ],
   "source": [
    "# Evaluo la cantidad de elementos en la lista people con len y lo imprimo con print y format\n",
    "# your code here\n",
    "\n",
    "print(f\"Hay {len(people)} personas\")\n"
   ]
  },
  {
   "cell_type": "markdown",
   "metadata": {},
   "source": [
    "**Cuanta gente tiene hijos**?"
   ]
  },
  {
   "cell_type": "code",
   "execution_count": 73,
   "metadata": {},
   "outputs": [
    {
     "name": "stdout",
     "output_type": "stream",
     "text": [
      "Hay 4 personas con hijos\n"
     ]
    }
   ],
   "source": [
    "\n",
    "counter=0\n",
    "for i in people:\n",
    "    if(i[\"n_kids\"]>0):\n",
    "        counter+=1\n",
    "print(f\"Hay {counter} personas con hijos\")        "
   ]
  },
  {
   "cell_type": "code",
   "execution_count": null,
   "metadata": {},
   "outputs": [],
   "source": [
    "# your code here"
   ]
  },
  {
   "cell_type": "markdown",
   "metadata": {},
   "source": [
    "**Cuantos hijos tienen en total?**"
   ]
  },
  {
   "cell_type": "code",
   "execution_count": 74,
   "metadata": {},
   "outputs": [
    {
     "name": "stdout",
     "output_type": "stream",
     "text": [
      "Las personas tienen 10 hijos en total\n"
     ]
    }
   ],
   "source": [
    "# your code here\n",
    "counter=0\n",
    "for i in people:\n",
    "    if(i[\"n_kids\"]>0):\n",
    "        counter+=i[\"n_kids\"]\n",
    "print(f\"Las personas tienen {counter} hijos en total\")"
   ]
  },
  {
   "cell_type": "markdown",
   "metadata": {},
   "source": [
    "**En un año, los nombres que terminen en \"a\" tendrán un niño extra. Crea una lista de diccionarios con la información de las personas en un año**"
   ]
  },
  {
   "cell_type": "code",
   "execution_count": 77,
   "metadata": {},
   "outputs": [
    {
     "name": "stdout",
     "output_type": "stream",
     "text": [
      "[{'name': 'Juan', 'age': 34, 'n_kids': 2}, {'name': 'Pepe', 'age': 27, 'n_kids': 0}, {'name': 'Sonia', 'age': 41, 'n_kids': 2}, {'name': 'Lucía', 'age': 22, 'n_kids': 3}, {'name': 'Leo', 'age': 55, 'n_kids': 5}]\n"
     ]
    }
   ],
   "source": [
    "# your code here\n",
    "people_1year = []\n",
    "\n",
    "for i in people:\n",
    "    person_1year = i.copy()  # Copiamos el diccionario de la persona actual\n",
    "    if i[\"name\"].endswith(\"a\"):\n",
    "        person_1year[\"n_kids\"] += 1  # Incrementamos el número de hijos en 1\n",
    "    people_1year.append(person_1year)  # Agregamos el diccionario actualizado a la lista\n",
    "\n",
    "print(people_1year)\n",
    "        "
   ]
  },
  {
   "cell_type": "code",
   "execution_count": null,
   "metadata": {},
   "outputs": [],
   "source": []
  }
 ],
 "metadata": {
  "kernelspec": {
   "display_name": "Python 3 (ipykernel)",
   "language": "python",
   "name": "python3"
  },
  "language_info": {
   "codemirror_mode": {
    "name": "ipython",
    "version": 3
   },
   "file_extension": ".py",
   "mimetype": "text/x-python",
   "name": "python",
   "nbconvert_exporter": "python",
   "pygments_lexer": "ipython3",
   "version": "3.10.12"
  },
  "toc": {
   "base_numbering": 1,
   "nav_menu": {},
   "number_sections": false,
   "sideBar": true,
   "skip_h1_title": false,
   "title_cell": "Table of Contents",
   "title_sidebar": "Contents",
   "toc_cell": false,
   "toc_position": {},
   "toc_section_display": true,
   "toc_window_display": true
  },
  "varInspector": {
   "cols": {
    "lenName": 16,
    "lenType": 16,
    "lenVar": 40
   },
   "kernels_config": {
    "python": {
     "delete_cmd_postfix": "",
     "delete_cmd_prefix": "del ",
     "library": "var_list.py",
     "varRefreshCmd": "print(var_dic_list())"
    },
    "r": {
     "delete_cmd_postfix": ") ",
     "delete_cmd_prefix": "rm(",
     "library": "var_list.r",
     "varRefreshCmd": "cat(var_dic_list()) "
    }
   },
   "types_to_exclude": [
    "module",
    "function",
    "builtin_function_or_method",
    "instance",
    "_Feature"
   ],
   "window_display": false
  },
  "vscode": {
   "interpreter": {
    "hash": "aee8b7b246df8f9039afb4144a1f6fd8d2ca17a180786b69acc140d282b71a49"
   }
  }
 },
 "nbformat": 4,
 "nbformat_minor": 4
}
